{
 "cells": [
  {
   "cell_type": "code",
   "execution_count": 6,
   "metadata": {},
   "outputs": [],
   "source": [
    "import pandas as pd\n",
    "import numpy as np\n",
    "import os\n",
    "from sklearn.model_selection import train_test_split\n",
    "from sklearn.preprocessing import LabelEncoder"
   ]
  },
  {
   "cell_type": "markdown",
   "metadata": {},
   "source": [
    "#### Loading in the processed data and mapping the target column to binary output"
   ]
  },
  {
   "cell_type": "code",
   "execution_count": 8,
   "metadata": {},
   "outputs": [
    {
     "data": {
      "text/plain": [
       "'/Users/aashish/Desktop/repos/What-Are-The-Odds/processed_data'"
      ]
     },
     "execution_count": 8,
     "metadata": {},
     "output_type": "execute_result"
    }
   ],
   "source": [
    "os.chdir('/Users/aashish/Desktop/repos/What-Are-The-Odds/processed_data')\n",
    "os.getcwd()"
   ]
  },
  {
   "cell_type": "code",
   "execution_count": 9,
   "metadata": {},
   "outputs": [],
   "source": [
    "engin = pd.read_csv(\"nonsparsetheta.csv\")\n",
    "engin = engin.drop('Unnamed: 0', axis=1)\n",
    "engin['y'] = np.where(engin['target'] == engin['player1_name'],\n",
    "                              'player1',\n",
    "                              'player2')\n",
    "m = {\"player1\": 0, \"player2\": 1}\n",
    "engin['maptarget'] = engin['y'].map(m)\n",
    "engin = engin.drop('y', axis=1)"
   ]
  },
  {
   "cell_type": "code",
   "execution_count": 11,
   "metadata": {},
   "outputs": [],
   "source": [
    "engin.columns\n",
    "enginx = engin[[\n",
    "\n",
    "    \"player1_ht\", \n",
    "    \"player2_ht\", \n",
    "    \"player1_rank\", \n",
    "    \"player2_rank\", \n",
    "    \"player1_h2h\", \n",
    "    \"player2_h2h\",\n",
    "    \"surface\", \n",
    "    \"tourney_level\",\n",
    "    \"player_1_recent_form\",\n",
    "    \"player_2_recent_form\",\n",
    "    \"player_1_theta_form\",\n",
    "    \"player_2_theta_form\",\n",
    "    'player1_surface_win_pct', \n",
    "    'player2_surface_win_pct',\n",
    "    'player1_level_win_pct', \n",
    "    'player2_level_win_pct',]]\n",
    "enginy = engin['maptarget']"
   ]
  },
  {
   "cell_type": "code",
   "execution_count": 12,
   "metadata": {},
   "outputs": [
    {
     "name": "stderr",
     "output_type": "stream",
     "text": [
      "/var/folders/bn/5c_f564903b2g4rg6w0jy4km0000gn/T/ipykernel_51761/2338595702.py:2: SettingWithCopyWarning: \n",
      "A value is trying to be set on a copy of a slice from a DataFrame.\n",
      "Try using .loc[row_indexer,col_indexer] = value instead\n",
      "\n",
      "See the caveats in the documentation: https://pandas.pydata.org/pandas-docs/stable/user_guide/indexing.html#returning-a-view-versus-a-copy\n",
      "  enginx['surface'] = le.fit_transform(enginx['surface'])\n",
      "/var/folders/bn/5c_f564903b2g4rg6w0jy4km0000gn/T/ipykernel_51761/2338595702.py:3: SettingWithCopyWarning: \n",
      "A value is trying to be set on a copy of a slice from a DataFrame.\n",
      "Try using .loc[row_indexer,col_indexer] = value instead\n",
      "\n",
      "See the caveats in the documentation: https://pandas.pydata.org/pandas-docs/stable/user_guide/indexing.html#returning-a-view-versus-a-copy\n",
      "  enginx['tourney_level'] = le.fit_transform(enginx['tourney_level'])\n"
     ]
    }
   ],
   "source": [
    "le = LabelEncoder()\n",
    "enginx['surface'] = le.fit_transform(enginx['surface'])\n",
    "enginx['tourney_level'] = le.fit_transform(enginx['tourney_level'])"
   ]
  },
  {
   "cell_type": "code",
   "execution_count": 13,
   "metadata": {},
   "outputs": [],
   "source": [
    "engintrainx, engintestx, engintrainy, engintesty = train_test_split(enginx, enginy, test_size=0.25, random_state=5323)"
   ]
  },
  {
   "cell_type": "code",
   "execution_count": 15,
   "metadata": {},
   "outputs": [],
   "source": [
    "from sklearn.linear_model import LogisticRegression\n",
    "from sklearn.ensemble import RandomForestClassifier\n",
    "from sklearn.preprocessing import LabelEncoder\n",
    "from sklearn.model_selection import cross_validate\n",
    "import xgboost"
   ]
  },
  {
   "cell_type": "markdown",
   "metadata": {},
   "source": [
    "#### Pipline for cross-validation and model metrics"
   ]
  },
  {
   "cell_type": "code",
   "execution_count": 16,
   "metadata": {},
   "outputs": [],
   "source": [
    "def cv(model, X, y, cv=100):\n",
    "    scoring = ['accuracy', 'precision', 'recall', 'f1']\n",
    "    results = cross_validate(estimator=model,\n",
    "                             X = X,\n",
    "                             y = y,\n",
    "                             cv=cv,\n",
    "                             scoring=scoring,\n",
    "                             return_train_score=True,\n",
    "                             return_estimator=True)\n",
    "    return {\n",
    "            \"Mean Training Accuracy\": results['train_accuracy'].mean()*100,\n",
    "            \"Mean Training Precision\": results['train_precision'].mean(),\n",
    "            \"Mean Training Recall\": results['train_recall'].mean(),\n",
    "            \"Mean Training F1 Score\": results['train_f1'].mean(),\n",
    "            \"Mean Validation Accuracy\": results['test_accuracy'].mean()*100,\n",
    "            \"Mean Validation Precision\": results['test_precision'].mean(),\n",
    "            \"Mean Validation Recall\": results['test_recall'].mean(),\n",
    "            \"Mean Validation F1 Score\": results['test_f1'].mean(),\n",
    "            \"model\": results\n",
    "            }"
   ]
  },
  {
   "cell_type": "code",
   "execution_count": 17,
   "metadata": {},
   "outputs": [],
   "source": [
    "logit = LogisticRegression(solver='liblinear')\n",
    "logit_result = cv(logit, X=engintrainx, y = engintrainy, cv=5)"
   ]
  },
  {
   "cell_type": "code",
   "execution_count": 18,
   "metadata": {},
   "outputs": [
    {
     "data": {
      "text/plain": [
       "{'Mean Training Accuracy': 69.95364697708439,\n",
       " 'Mean Training Precision': 0.6953316358761665,\n",
       " 'Mean Training Recall': 0.6793490506848484,\n",
       " 'Mean Training F1 Score': 0.6872450632382098,\n",
       " 'Mean Validation Accuracy': 69.7847258428159,\n",
       " 'Mean Validation Precision': 0.694049549067196,\n",
       " 'Mean Validation Recall': 0.677087786969049,\n",
       " 'Mean Validation F1 Score': 0.6853528853779152,\n",
       " 'model': {'fit_time': array([0.09321594, 0.13702583, 0.10313702, 0.1093061 , 0.12332368]),\n",
       "  'score_time': array([0.00672483, 0.0098393 , 0.00495815, 0.00645089, 0.01157522]),\n",
       "  'estimator': [LogisticRegression(solver='liblinear'),\n",
       "   LogisticRegression(solver='liblinear'),\n",
       "   LogisticRegression(solver='liblinear'),\n",
       "   LogisticRegression(solver='liblinear'),\n",
       "   LogisticRegression(solver='liblinear')],\n",
       "  'test_accuracy': array([0.69154229, 0.68866195, 0.71563236, 0.69277108, 0.7006286 ]),\n",
       "  'train_accuracy': array([0.7017808 , 0.70171533, 0.69438261, 0.7006874 , 0.6991162 ]),\n",
       "  'test_precision': array([0.68729282, 0.68456004, 0.72228637, 0.68532609, 0.69078242]),\n",
       "  'train_precision': array([0.6973159 , 0.69711142, 0.68966942, 0.69621473, 0.69634671]),\n",
       "  'test_recall': array([0.67025862, 0.66648707, 0.67403017, 0.67978437, 0.69487871]),\n",
       "  'train_recall': array([0.68256535, 0.68283482, 0.67461601, 0.68139566, 0.67533342]),\n",
       "  'test_f1': array([0.67866885, 0.67540268, 0.69732441, 0.68254398, 0.69282451]),\n",
       "  'train_f1': array([0.68986178, 0.68989926, 0.68205966, 0.68872549, 0.68567911])}}"
      ]
     },
     "execution_count": 18,
     "metadata": {},
     "output_type": "execute_result"
    }
   ],
   "source": [
    "logit_result"
   ]
  },
  {
   "cell_type": "code",
   "execution_count": 19,
   "metadata": {},
   "outputs": [
    {
     "name": "stdout",
     "output_type": "stream",
     "text": [
      "Fitting 3 folds for each of 2 candidates, totalling 6 fits\n",
      "[CV] END bootstrap=False, max_depth=30, max_features=sqrt, min_samples_leaf=4, min_samples_split=10, n_estimators=600; total time=  19.3s\n",
      "[CV] END bootstrap=False, max_depth=30, max_features=sqrt, min_samples_leaf=4, min_samples_split=10, n_estimators=600; total time=  19.5s\n",
      "[CV] END bootstrap=False, max_depth=30, max_features=sqrt, min_samples_leaf=4, min_samples_split=10, n_estimators=600; total time=  19.2s\n",
      "[CV] END bootstrap=False, max_depth=20, max_features=sqrt, min_samples_leaf=4, min_samples_split=5, n_estimators=1000; total time=  31.6s\n",
      "[CV] END bootstrap=False, max_depth=20, max_features=sqrt, min_samples_leaf=4, min_samples_split=5, n_estimators=1000; total time=  32.4s\n",
      "[CV] END bootstrap=False, max_depth=20, max_features=sqrt, min_samples_leaf=4, min_samples_split=5, n_estimators=1000; total time=  32.2s\n"
     ]
    },
    {
     "data": {
      "text/html": [
       "<style>#sk-container-id-1 {color: black;}#sk-container-id-1 pre{padding: 0;}#sk-container-id-1 div.sk-toggleable {background-color: white;}#sk-container-id-1 label.sk-toggleable__label {cursor: pointer;display: block;width: 100%;margin-bottom: 0;padding: 0.3em;box-sizing: border-box;text-align: center;}#sk-container-id-1 label.sk-toggleable__label-arrow:before {content: \"▸\";float: left;margin-right: 0.25em;color: #696969;}#sk-container-id-1 label.sk-toggleable__label-arrow:hover:before {color: black;}#sk-container-id-1 div.sk-estimator:hover label.sk-toggleable__label-arrow:before {color: black;}#sk-container-id-1 div.sk-toggleable__content {max-height: 0;max-width: 0;overflow: hidden;text-align: left;background-color: #f0f8ff;}#sk-container-id-1 div.sk-toggleable__content pre {margin: 0.2em;color: black;border-radius: 0.25em;background-color: #f0f8ff;}#sk-container-id-1 input.sk-toggleable__control:checked~div.sk-toggleable__content {max-height: 200px;max-width: 100%;overflow: auto;}#sk-container-id-1 input.sk-toggleable__control:checked~label.sk-toggleable__label-arrow:before {content: \"▾\";}#sk-container-id-1 div.sk-estimator input.sk-toggleable__control:checked~label.sk-toggleable__label {background-color: #d4ebff;}#sk-container-id-1 div.sk-label input.sk-toggleable__control:checked~label.sk-toggleable__label {background-color: #d4ebff;}#sk-container-id-1 input.sk-hidden--visually {border: 0;clip: rect(1px 1px 1px 1px);clip: rect(1px, 1px, 1px, 1px);height: 1px;margin: -1px;overflow: hidden;padding: 0;position: absolute;width: 1px;}#sk-container-id-1 div.sk-estimator {font-family: monospace;background-color: #f0f8ff;border: 1px dotted black;border-radius: 0.25em;box-sizing: border-box;margin-bottom: 0.5em;}#sk-container-id-1 div.sk-estimator:hover {background-color: #d4ebff;}#sk-container-id-1 div.sk-parallel-item::after {content: \"\";width: 100%;border-bottom: 1px solid gray;flex-grow: 1;}#sk-container-id-1 div.sk-label:hover label.sk-toggleable__label {background-color: #d4ebff;}#sk-container-id-1 div.sk-serial::before {content: \"\";position: absolute;border-left: 1px solid gray;box-sizing: border-box;top: 0;bottom: 0;left: 50%;z-index: 0;}#sk-container-id-1 div.sk-serial {display: flex;flex-direction: column;align-items: center;background-color: white;padding-right: 0.2em;padding-left: 0.2em;position: relative;}#sk-container-id-1 div.sk-item {position: relative;z-index: 1;}#sk-container-id-1 div.sk-parallel {display: flex;align-items: stretch;justify-content: center;background-color: white;position: relative;}#sk-container-id-1 div.sk-item::before, #sk-container-id-1 div.sk-parallel-item::before {content: \"\";position: absolute;border-left: 1px solid gray;box-sizing: border-box;top: 0;bottom: 0;left: 50%;z-index: -1;}#sk-container-id-1 div.sk-parallel-item {display: flex;flex-direction: column;z-index: 1;position: relative;background-color: white;}#sk-container-id-1 div.sk-parallel-item:first-child::after {align-self: flex-end;width: 50%;}#sk-container-id-1 div.sk-parallel-item:last-child::after {align-self: flex-start;width: 50%;}#sk-container-id-1 div.sk-parallel-item:only-child::after {width: 0;}#sk-container-id-1 div.sk-dashed-wrapped {border: 1px dashed gray;margin: 0 0.4em 0.5em 0.4em;box-sizing: border-box;padding-bottom: 0.4em;background-color: white;}#sk-container-id-1 div.sk-label label {font-family: monospace;font-weight: bold;display: inline-block;line-height: 1.2em;}#sk-container-id-1 div.sk-label-container {text-align: center;}#sk-container-id-1 div.sk-container {/* jupyter's `normalize.less` sets `[hidden] { display: none; }` but bootstrap.min.css set `[hidden] { display: none !important; }` so we also need the `!important` here to be able to override the default hidden behavior on the sphinx rendered scikit-learn.org. See: https://github.com/scikit-learn/scikit-learn/issues/21755 */display: inline-block !important;position: relative;}#sk-container-id-1 div.sk-text-repr-fallback {display: none;}</style><div id=\"sk-container-id-1\" class=\"sk-top-container\"><div class=\"sk-text-repr-fallback\"><pre>RandomizedSearchCV(cv=3, estimator=RandomForestClassifier(), n_iter=2,\n",
       "                   param_distributions={&#x27;bootstrap&#x27;: [False],\n",
       "                                        &#x27;max_depth&#x27;: [10, 20, 30, 40, 50, 60,\n",
       "                                                      70, 80, 90, 100, 110,\n",
       "                                                      None],\n",
       "                                        &#x27;max_features&#x27;: [&#x27;sqrt&#x27;],\n",
       "                                        &#x27;min_samples_leaf&#x27;: [1, 2, 4],\n",
       "                                        &#x27;min_samples_split&#x27;: [2, 5, 10],\n",
       "                                        &#x27;n_estimators&#x27;: [200, 400, 600, 800,\n",
       "                                                         1000, 1200, 1400, 1600,\n",
       "                                                         1800, 2000]},\n",
       "                   random_state=5323, verbose=2)</pre><b>In a Jupyter environment, please rerun this cell to show the HTML representation or trust the notebook. <br />On GitHub, the HTML representation is unable to render, please try loading this page with nbviewer.org.</b></div><div class=\"sk-container\" hidden><div class=\"sk-item sk-dashed-wrapped\"><div class=\"sk-label-container\"><div class=\"sk-label sk-toggleable\"><input class=\"sk-toggleable__control sk-hidden--visually\" id=\"sk-estimator-id-1\" type=\"checkbox\" ><label for=\"sk-estimator-id-1\" class=\"sk-toggleable__label sk-toggleable__label-arrow\">RandomizedSearchCV</label><div class=\"sk-toggleable__content\"><pre>RandomizedSearchCV(cv=3, estimator=RandomForestClassifier(), n_iter=2,\n",
       "                   param_distributions={&#x27;bootstrap&#x27;: [False],\n",
       "                                        &#x27;max_depth&#x27;: [10, 20, 30, 40, 50, 60,\n",
       "                                                      70, 80, 90, 100, 110,\n",
       "                                                      None],\n",
       "                                        &#x27;max_features&#x27;: [&#x27;sqrt&#x27;],\n",
       "                                        &#x27;min_samples_leaf&#x27;: [1, 2, 4],\n",
       "                                        &#x27;min_samples_split&#x27;: [2, 5, 10],\n",
       "                                        &#x27;n_estimators&#x27;: [200, 400, 600, 800,\n",
       "                                                         1000, 1200, 1400, 1600,\n",
       "                                                         1800, 2000]},\n",
       "                   random_state=5323, verbose=2)</pre></div></div></div><div class=\"sk-parallel\"><div class=\"sk-parallel-item\"><div class=\"sk-item\"><div class=\"sk-label-container\"><div class=\"sk-label sk-toggleable\"><input class=\"sk-toggleable__control sk-hidden--visually\" id=\"sk-estimator-id-2\" type=\"checkbox\" ><label for=\"sk-estimator-id-2\" class=\"sk-toggleable__label sk-toggleable__label-arrow\">estimator: RandomForestClassifier</label><div class=\"sk-toggleable__content\"><pre>RandomForestClassifier()</pre></div></div></div><div class=\"sk-serial\"><div class=\"sk-item\"><div class=\"sk-estimator sk-toggleable\"><input class=\"sk-toggleable__control sk-hidden--visually\" id=\"sk-estimator-id-3\" type=\"checkbox\" ><label for=\"sk-estimator-id-3\" class=\"sk-toggleable__label sk-toggleable__label-arrow\">RandomForestClassifier</label><div class=\"sk-toggleable__content\"><pre>RandomForestClassifier()</pre></div></div></div></div></div></div></div></div></div></div>"
      ],
      "text/plain": [
       "RandomizedSearchCV(cv=3, estimator=RandomForestClassifier(), n_iter=2,\n",
       "                   param_distributions={'bootstrap': [False],\n",
       "                                        'max_depth': [10, 20, 30, 40, 50, 60,\n",
       "                                                      70, 80, 90, 100, 110,\n",
       "                                                      None],\n",
       "                                        'max_features': ['sqrt'],\n",
       "                                        'min_samples_leaf': [1, 2, 4],\n",
       "                                        'min_samples_split': [2, 5, 10],\n",
       "                                        'n_estimators': [200, 400, 600, 800,\n",
       "                                                         1000, 1200, 1400, 1600,\n",
       "                                                         1800, 2000]},\n",
       "                   random_state=5323, verbose=2)"
      ]
     },
     "execution_count": 19,
     "metadata": {},
     "output_type": "execute_result"
    }
   ],
   "source": [
    "rf = RandomForestClassifier()\n",
    "\n",
    "#randomized grid search cv to find the best range \n",
    "from sklearn.model_selection import RandomizedSearchCV\n",
    "n_estimators = [int(x) for x in np.linspace(start = 200, stop = 2000, num = 10)]\n",
    "max_features = ['sqrt']\n",
    "max_depth = [int(x) for x in np.linspace(10, 110, num = 11)]\n",
    "max_depth.append(None)\n",
    "min_samples_split = [2, 5, 10]\n",
    "min_samples_leaf = [1, 2, 4]\n",
    "bootstrap = [False]\n",
    "\n",
    "randomgrid = {'n_estimators': n_estimators,\n",
    "               'max_features': max_features,\n",
    "               'max_depth': max_depth,\n",
    "               'min_samples_split': min_samples_split,\n",
    "               'min_samples_leaf': min_samples_leaf,\n",
    "               'bootstrap': bootstrap}\n",
    "\n",
    "rf_random = RandomizedSearchCV(estimator = rf, param_distributions = randomgrid, n_iter = 2, cv = 3, verbose=2, random_state=5323)\n",
    "rf_random.fit(engintrainx, engintrainy)"
   ]
  },
  {
   "cell_type": "code",
   "execution_count": 20,
   "metadata": {},
   "outputs": [
    {
     "data": {
      "text/plain": [
       "{'n_estimators': 600,\n",
       " 'min_samples_split': 10,\n",
       " 'min_samples_leaf': 4,\n",
       " 'max_features': 'sqrt',\n",
       " 'max_depth': 30,\n",
       " 'bootstrap': False}"
      ]
     },
     "execution_count": 20,
     "metadata": {},
     "output_type": "execute_result"
    }
   ],
   "source": [
    "rf_random.best_params_"
   ]
  },
  {
   "cell_type": "code",
   "execution_count": 21,
   "metadata": {},
   "outputs": [
    {
     "data": {
      "text/html": [
       "<style>#sk-container-id-2 {color: black;}#sk-container-id-2 pre{padding: 0;}#sk-container-id-2 div.sk-toggleable {background-color: white;}#sk-container-id-2 label.sk-toggleable__label {cursor: pointer;display: block;width: 100%;margin-bottom: 0;padding: 0.3em;box-sizing: border-box;text-align: center;}#sk-container-id-2 label.sk-toggleable__label-arrow:before {content: \"▸\";float: left;margin-right: 0.25em;color: #696969;}#sk-container-id-2 label.sk-toggleable__label-arrow:hover:before {color: black;}#sk-container-id-2 div.sk-estimator:hover label.sk-toggleable__label-arrow:before {color: black;}#sk-container-id-2 div.sk-toggleable__content {max-height: 0;max-width: 0;overflow: hidden;text-align: left;background-color: #f0f8ff;}#sk-container-id-2 div.sk-toggleable__content pre {margin: 0.2em;color: black;border-radius: 0.25em;background-color: #f0f8ff;}#sk-container-id-2 input.sk-toggleable__control:checked~div.sk-toggleable__content {max-height: 200px;max-width: 100%;overflow: auto;}#sk-container-id-2 input.sk-toggleable__control:checked~label.sk-toggleable__label-arrow:before {content: \"▾\";}#sk-container-id-2 div.sk-estimator input.sk-toggleable__control:checked~label.sk-toggleable__label {background-color: #d4ebff;}#sk-container-id-2 div.sk-label input.sk-toggleable__control:checked~label.sk-toggleable__label {background-color: #d4ebff;}#sk-container-id-2 input.sk-hidden--visually {border: 0;clip: rect(1px 1px 1px 1px);clip: rect(1px, 1px, 1px, 1px);height: 1px;margin: -1px;overflow: hidden;padding: 0;position: absolute;width: 1px;}#sk-container-id-2 div.sk-estimator {font-family: monospace;background-color: #f0f8ff;border: 1px dotted black;border-radius: 0.25em;box-sizing: border-box;margin-bottom: 0.5em;}#sk-container-id-2 div.sk-estimator:hover {background-color: #d4ebff;}#sk-container-id-2 div.sk-parallel-item::after {content: \"\";width: 100%;border-bottom: 1px solid gray;flex-grow: 1;}#sk-container-id-2 div.sk-label:hover label.sk-toggleable__label {background-color: #d4ebff;}#sk-container-id-2 div.sk-serial::before {content: \"\";position: absolute;border-left: 1px solid gray;box-sizing: border-box;top: 0;bottom: 0;left: 50%;z-index: 0;}#sk-container-id-2 div.sk-serial {display: flex;flex-direction: column;align-items: center;background-color: white;padding-right: 0.2em;padding-left: 0.2em;position: relative;}#sk-container-id-2 div.sk-item {position: relative;z-index: 1;}#sk-container-id-2 div.sk-parallel {display: flex;align-items: stretch;justify-content: center;background-color: white;position: relative;}#sk-container-id-2 div.sk-item::before, #sk-container-id-2 div.sk-parallel-item::before {content: \"\";position: absolute;border-left: 1px solid gray;box-sizing: border-box;top: 0;bottom: 0;left: 50%;z-index: -1;}#sk-container-id-2 div.sk-parallel-item {display: flex;flex-direction: column;z-index: 1;position: relative;background-color: white;}#sk-container-id-2 div.sk-parallel-item:first-child::after {align-self: flex-end;width: 50%;}#sk-container-id-2 div.sk-parallel-item:last-child::after {align-self: flex-start;width: 50%;}#sk-container-id-2 div.sk-parallel-item:only-child::after {width: 0;}#sk-container-id-2 div.sk-dashed-wrapped {border: 1px dashed gray;margin: 0 0.4em 0.5em 0.4em;box-sizing: border-box;padding-bottom: 0.4em;background-color: white;}#sk-container-id-2 div.sk-label label {font-family: monospace;font-weight: bold;display: inline-block;line-height: 1.2em;}#sk-container-id-2 div.sk-label-container {text-align: center;}#sk-container-id-2 div.sk-container {/* jupyter's `normalize.less` sets `[hidden] { display: none; }` but bootstrap.min.css set `[hidden] { display: none !important; }` so we also need the `!important` here to be able to override the default hidden behavior on the sphinx rendered scikit-learn.org. See: https://github.com/scikit-learn/scikit-learn/issues/21755 */display: inline-block !important;position: relative;}#sk-container-id-2 div.sk-text-repr-fallback {display: none;}</style><div id=\"sk-container-id-2\" class=\"sk-top-container\"><div class=\"sk-text-repr-fallback\"><pre>RandomForestClassifier(bootstrap=False, max_depth=20, min_samples_leaf=4,\n",
       "                       min_samples_split=4, n_estimators=600)</pre><b>In a Jupyter environment, please rerun this cell to show the HTML representation or trust the notebook. <br />On GitHub, the HTML representation is unable to render, please try loading this page with nbviewer.org.</b></div><div class=\"sk-container\" hidden><div class=\"sk-item\"><div class=\"sk-estimator sk-toggleable\"><input class=\"sk-toggleable__control sk-hidden--visually\" id=\"sk-estimator-id-4\" type=\"checkbox\" checked><label for=\"sk-estimator-id-4\" class=\"sk-toggleable__label sk-toggleable__label-arrow\">RandomForestClassifier</label><div class=\"sk-toggleable__content\"><pre>RandomForestClassifier(bootstrap=False, max_depth=20, min_samples_leaf=4,\n",
       "                       min_samples_split=4, n_estimators=600)</pre></div></div></div></div></div>"
      ],
      "text/plain": [
       "RandomForestClassifier(bootstrap=False, max_depth=20, min_samples_leaf=4,\n",
       "                       min_samples_split=4, n_estimators=600)"
      ]
     },
     "execution_count": 21,
     "metadata": {},
     "output_type": "execute_result"
    }
   ],
   "source": [
    "rft = RandomForestClassifier(\n",
    "    n_estimators=600,\n",
    "    min_samples_split=4,\n",
    "    min_samples_leaf=4,\n",
    "    max_features='sqrt',\n",
    "    max_depth=20,\n",
    "    bootstrap=False)\n",
    "\n",
    "rft.fit(engintrainx, engintrainy)"
   ]
  },
  {
   "cell_type": "code",
   "execution_count": 22,
   "metadata": {},
   "outputs": [
    {
     "data": {
      "text/plain": [
       "0.6997643362136685"
      ]
     },
     "execution_count": 22,
     "metadata": {},
     "output_type": "execute_result"
    }
   ],
   "source": [
    "from sklearn.metrics import accuracy_score\n",
    "preds = rft.predict(engintestx)\n",
    "accuracy_score(engintesty, preds)"
   ]
  },
  {
   "cell_type": "code",
   "execution_count": 23,
   "metadata": {},
   "outputs": [
    {
     "data": {
      "text/plain": [
       "([0, 1, 2, 3, 4, 5, 6, 7, 8, 9, 10, 11, 12, 13, 14, 15],\n",
       " [Text(0, 0, 'player1_ht'),\n",
       "  Text(1, 0, 'player2_ht'),\n",
       "  Text(2, 0, 'player1_rank'),\n",
       "  Text(3, 0, 'player2_rank'),\n",
       "  Text(4, 0, 'player1_h2h'),\n",
       "  Text(5, 0, 'player2_h2h'),\n",
       "  Text(6, 0, 'surface'),\n",
       "  Text(7, 0, 'tourney_level'),\n",
       "  Text(8, 0, 'player_1_recent_form'),\n",
       "  Text(9, 0, 'player_2_recent_form'),\n",
       "  Text(10, 0, 'player_1_theta_form'),\n",
       "  Text(11, 0, 'player_2_theta_form'),\n",
       "  Text(12, 0, 'player1_surface_win_pct'),\n",
       "  Text(13, 0, 'player2_surface_win_pct'),\n",
       "  Text(14, 0, 'player1_level_win_pct'),\n",
       "  Text(15, 0, 'player2_level_win_pct')])"
      ]
     },
     "execution_count": 23,
     "metadata": {},
     "output_type": "execute_result"
    },
    {
     "data": {
      "image/png": "[encoded data removed]",
      "text/plain": [
       "<Figure size 640x480 with 1 Axes>"
      ]
     },
     "metadata": {},
     "output_type": "display_data"
    }
   ],
   "source": [
    "import matplotlib.pyplot as plt\n",
    "plt.bar(engintrainx.columns, rft.feature_importances_)\n",
    "plt.title(\"Feature importance per RF model\")\n",
    "plt.xticks(rotation=90)"
   ]
  },
  {
   "cell_type": "code",
   "execution_count": 24,
   "metadata": {},
   "outputs": [
    {
     "data": {
      "text/plain": [
       "0.6878240377062058"
      ]
     },
     "execution_count": 24,
     "metadata": {},
     "output_type": "execute_result"
    }
   ],
   "source": [
    "#xgboost doesn't play nice with the cv method I made \n",
    "#xgresults = cv(model=xgb, X = engintrainx, y = engintrainy, cv=10)\n",
    "xgb = xgboost.XGBClassifier()\n",
    "xgb.fit(engintrainx, engintrainy)\n",
    "xgp = xgb.predict(engintestx)\n",
    "accuracy_score(engintesty, xgp)"
   ]
  },
  {
   "cell_type": "markdown",
   "metadata": {},
   "source": [
    "#### Exploring the confidence metric using logistic regression. Is it needed or does rank cover it well enough?"
   ]
  },
  {
   "cell_type": "code",
   "execution_count": 25,
   "metadata": {},
   "outputs": [
    {
     "name": "stderr",
     "output_type": "stream",
     "text": [
      "/var/folders/bn/5c_f564903b2g4rg6w0jy4km0000gn/T/ipykernel_51761/1114835898.py:34: SettingWithCopyWarning: \n",
      "A value is trying to be set on a copy of a slice from a DataFrame.\n",
      "Try using .loc[row_indexer,col_indexer] = value instead\n",
      "\n",
      "See the caveats in the documentation: https://pandas.pydata.org/pandas-docs/stable/user_guide/indexing.html#returning-a-view-versus-a-copy\n",
      "  enginxwith['surface'] = le.fit_transform(enginx['surface'])\n",
      "/var/folders/bn/5c_f564903b2g4rg6w0jy4km0000gn/T/ipykernel_51761/1114835898.py:35: SettingWithCopyWarning: \n",
      "A value is trying to be set on a copy of a slice from a DataFrame.\n",
      "Try using .loc[row_indexer,col_indexer] = value instead\n",
      "\n",
      "See the caveats in the documentation: https://pandas.pydata.org/pandas-docs/stable/user_guide/indexing.html#returning-a-view-versus-a-copy\n",
      "  enginxwith['tourney_level'] = le.fit_transform(enginx['tourney_level'])\n",
      "/var/folders/bn/5c_f564903b2g4rg6w0jy4km0000gn/T/ipykernel_51761/1114835898.py:36: SettingWithCopyWarning: \n",
      "A value is trying to be set on a copy of a slice from a DataFrame.\n",
      "Try using .loc[row_indexer,col_indexer] = value instead\n",
      "\n",
      "See the caveats in the documentation: https://pandas.pydata.org/pandas-docs/stable/user_guide/indexing.html#returning-a-view-versus-a-copy\n",
      "  enginxwithout['surface'] = le.fit_transform(enginx['surface'])\n",
      "/var/folders/bn/5c_f564903b2g4rg6w0jy4km0000gn/T/ipykernel_51761/1114835898.py:37: SettingWithCopyWarning: \n",
      "A value is trying to be set on a copy of a slice from a DataFrame.\n",
      "Try using .loc[row_indexer,col_indexer] = value instead\n",
      "\n",
      "See the caveats in the documentation: https://pandas.pydata.org/pandas-docs/stable/user_guide/indexing.html#returning-a-view-versus-a-copy\n",
      "  enginxwithout['tourney_level'] = le.fit_transform(enginx['tourney_level'])\n"
     ]
    }
   ],
   "source": [
    "enginxwithout = engin[[\n",
    "\n",
    "    \"player1_ht\", \n",
    "    \"player2_ht\", \n",
    "    \"player1_rank\", \n",
    "    \"player2_rank\", \n",
    "    \"player1_h2h\", \n",
    "    \"player2_h2h\",\n",
    "    \"surface\", \n",
    "    \"tourney_level\",\n",
    "    'player1_surface_win_pct', \n",
    "    'player2_surface_win_pct',\n",
    "    'player1_level_win_pct', \n",
    "    'player2_level_win_pct',]]\n",
    "\n",
    "enginxwith = engin[[\n",
    " \n",
    "    \"player1_ht\", \n",
    "    \"player2_ht\", \n",
    "    \"player1_rank\", \n",
    "    \"player2_rank\", \n",
    "    \"player1_h2h\", \n",
    "    \"player2_h2h\",\n",
    "    \"surface\", \n",
    "    \"tourney_level\",\n",
    "    \"player_1_theta_form\",\n",
    "    \"player_2_theta_form\",\n",
    "    'player1_surface_win_pct', \n",
    "    'player2_surface_win_pct',\n",
    "    'player1_level_win_pct', \n",
    "    'player2_level_win_pct',]]\n",
    "\n",
    "enginy = engin['maptarget']\n",
    "enginxwith['surface'] = le.fit_transform(enginx['surface'])\n",
    "enginxwith['tourney_level'] = le.fit_transform(enginx['tourney_level'])\n",
    "enginxwithout['surface'] = le.fit_transform(enginx['surface'])\n",
    "enginxwithout['tourney_level'] = le.fit_transform(enginx['tourney_level'])"
   ]
  },
  {
   "cell_type": "code",
   "execution_count": 26,
   "metadata": {},
   "outputs": [],
   "source": [
    "engintrainxwith, engintestxwith, engintrainy, engintesty = train_test_split(enginxwith, enginy, test_size=0.25, random_state=5323)\n",
    "engintrainxwithout, engintestxwithout, engintrainy, engintesty = train_test_split(enginxwithout, enginy, test_size=0.25, random_state=5323)"
   ]
  },
  {
   "cell_type": "code",
   "execution_count": 27,
   "metadata": {},
   "outputs": [
    {
     "name": "stdout",
     "output_type": "stream",
     "text": [
      "Optimization terminated successfully.\n",
      "         Current function value: 0.566349\n",
      "         Iterations 6\n",
      "Optimization terminated successfully.\n",
      "         Current function value: 0.567229\n",
      "         Iterations 6\n"
     ]
    }
   ],
   "source": [
    "from statsmodels.api import Logit\n",
    "\n",
    "logitwith = Logit(engintrainy.astype(int),engintrainxwith).fit()\n",
    "logitwithout = Logit(engintrainy.astype(int),engintrainxwithout).fit()"
   ]
  },
  {
   "cell_type": "code",
   "execution_count": 28,
   "metadata": {},
   "outputs": [
    {
     "name": "stdout",
     "output_type": "stream",
     "text": [
      "0.6991358994501178\n",
      "0.6958366064414768\n"
     ]
    }
   ],
   "source": [
    "predswith = logitwith.predict(engintestxwith)\n",
    "predswith = list(map(round,predswith))\n",
    "print(accuracy_score(engintesty, predswith))\n",
    "predswithout = logitwithout.predict(engintestxwithout)\n",
    "predswithout = list(map(round,predswithout))\n",
    "print(accuracy_score(engintesty, predswithout))"
   ]
  },
  {
   "cell_type": "code",
   "execution_count": 29,
   "metadata": {},
   "outputs": [
    {
     "name": "stdout",
     "output_type": "stream",
     "text": [
      "                           Logit Regression Results                           \n",
      "==============================================================================\n",
      "Dep. Variable:              maptarget   No. Observations:                19093\n",
      "Model:                          Logit   Df Residuals:                    19079\n",
      "Method:                           MLE   Df Model:                           13\n",
      "Date:                Wed, 19 Jul 2023   Pseudo R-squ.:                  0.1825\n",
      "Time:                        16:26:11   Log-Likelihood:                -10813.\n",
      "converged:                       True   LL-Null:                       -13227.\n",
      "Covariance Type:            nonrobust   LLR p-value:                     0.000\n",
      "===========================================================================================\n",
      "                              coef    std err          z      P>|z|      [0.025      0.975]\n",
      "-------------------------------------------------------------------------------------------\n",
      "player1_ht                 -0.0006      0.002     -0.352      0.725      -0.004       0.003\n",
      "player2_ht                  0.0007      0.002      0.372      0.710      -0.003       0.004\n",
      "player1_rank                0.0029      0.000      8.965      0.000       0.002       0.004\n",
      "player2_rank               -0.0034      0.000     -8.952      0.000      -0.004      -0.003\n",
      "player1_h2h                -0.0071      0.009     -0.757      0.449      -0.025       0.011\n",
      "player2_h2h                 0.0167      0.010      1.723      0.085      -0.002       0.036\n",
      "surface                     0.0035      0.017      0.202      0.840      -0.031       0.038\n",
      "tourney_level              -0.0046      0.010     -0.436      0.663      -0.025       0.016\n",
      "player_1_theta_form        -0.1849      0.038     -4.880      0.000      -0.259      -0.111\n",
      "player_2_theta_form         0.5878      0.150      3.916      0.000       0.294       0.882\n",
      "player1_surface_win_pct    -3.3119      0.204    -16.265      0.000      -3.711      -2.913\n",
      "player2_surface_win_pct     3.4474      0.209     16.477      0.000       3.037       3.857\n",
      "player1_level_win_pct      -2.6325      0.199    -13.210      0.000      -3.023      -2.242\n",
      "player2_level_win_pct       2.1447      0.207     10.372      0.000       1.739       2.550\n",
      "===========================================================================================\n"
     ]
    }
   ],
   "source": [
    "print(logitwith.summary())"
   ]
  },
  {
   "cell_type": "code",
   "execution_count": 30,
   "metadata": {},
   "outputs": [
    {
     "name": "stdout",
     "output_type": "stream",
     "text": [
      "                           Logit Regression Results                           \n",
      "==============================================================================\n",
      "Dep. Variable:              maptarget   No. Observations:                19093\n",
      "Model:                          Logit   Df Residuals:                    19081\n",
      "Method:                           MLE   Df Model:                           11\n",
      "Date:                Wed, 19 Jul 2023   Pseudo R-squ.:                  0.1812\n",
      "Time:                        16:26:14   Log-Likelihood:                -10830.\n",
      "converged:                       True   LL-Null:                       -13227.\n",
      "Covariance Type:            nonrobust   LLR p-value:                     0.000\n",
      "===========================================================================================\n",
      "                              coef    std err          z      P>|z|      [0.025      0.975]\n",
      "-------------------------------------------------------------------------------------------\n",
      "player1_ht                 -0.0008      0.002     -0.446      0.656      -0.004       0.003\n",
      "player2_ht                  0.0012      0.002      0.670      0.503      -0.002       0.005\n",
      "player1_rank                0.0033      0.000     10.132      0.000       0.003       0.004\n",
      "player2_rank               -0.0038      0.000    -10.228      0.000      -0.005      -0.003\n",
      "player1_h2h                -0.0087      0.009     -0.928      0.353      -0.027       0.010\n",
      "player2_h2h                 0.0198      0.010      2.048      0.041       0.001       0.039\n",
      "surface                     0.0081      0.017      0.468      0.640      -0.026       0.042\n",
      "tourney_level              -0.0030      0.010     -0.303      0.762      -0.023       0.017\n",
      "player1_surface_win_pct    -3.4426      0.201    -17.153      0.000      -3.836      -3.049\n",
      "player2_surface_win_pct     3.6845      0.196     18.760      0.000       3.300       4.069\n",
      "player1_level_win_pct      -2.8079      0.197    -14.222      0.000      -3.195      -2.421\n",
      "player2_level_win_pct       2.4395      0.195     12.498      0.000       2.057       2.822\n",
      "===========================================================================================\n"
     ]
    }
   ],
   "source": [
    "print(logitwithout.summary())"
   ]
  }
 ],
 "metadata": {
  "kernelspec": {
   "display_name": "Python 3.10.4 ('tennisnn')",
   "language": "python",
   "name": "python3"
  },
  "language_info": {
   "codemirror_mode": {
    "name": "ipython",
    "version": 3
   },
   "file_extension": ".py",
   "mimetype": "text/x-python",
   "name": "python",
   "nbconvert_exporter": "python",
   "pygments_lexer": "ipython3",
   "version": "3.11.4"
  },
  "orig_nbformat": 4,
  "vscode": {
   "interpreter": {
    "hash": "791a548851e5d0bb19e0f08af09583cabfb25ccb9dae2520d2075e3a1e1d67e5"
   }
  }
 },
 "nbformat": 4,
 "nbformat_minor": 2
}
